{
 "cells": [
  {
   "cell_type": "code",
   "execution_count": 1,
   "id": "5b07a70f-0667-4d17-b6e6-4e250bac8eaf",
   "metadata": {},
   "outputs": [
    {
     "name": "stdout",
     "output_type": "stream",
     "text": [
      "Hello, World\n"
     ]
    }
   ],
   "source": [
    "print(\"Hello, World\")"
   ]
  },
  {
   "cell_type": "code",
   "execution_count": 2,
   "id": "9873925b-8856-469b-9d68-67ac9cbb8653",
   "metadata": {},
   "outputs": [
    {
     "name": "stdin",
     "output_type": "stream",
     "text": [
      "enter first number : 10\n",
      "enter second number : 11\n"
     ]
    },
    {
     "name": "stdout",
     "output_type": "stream",
     "text": [
      "sum is 21\n"
     ]
    }
   ],
   "source": [
    "a = int(input(\"enter first number :\"))\n",
    "b = int(input(\"enter second number :\"))\n",
    "sum = a+b\n",
    "print(\"sum is\",sum)"
   ]
  },
  {
   "cell_type": "code",
   "execution_count": 3,
   "id": "14fe799a-483a-4895-b4cf-d3b838a63b8b",
   "metadata": {},
   "outputs": [
    {
     "name": "stdin",
     "output_type": "stream",
     "text": [
      "enter number  25\n"
     ]
    },
    {
     "name": "stdout",
     "output_type": "stream",
     "text": [
      "5.0\n"
     ]
    }
   ],
   "source": [
    "import math\n",
    "x  = int(input(\"enter number \"))\n",
    "print(math.sqrt(x))"
   ]
  },
  {
   "cell_type": "code",
   "execution_count": 5,
   "id": "3130c5d7-3956-4763-b719-962c4d70e547",
   "metadata": {},
   "outputs": [
    {
     "name": "stdin",
     "output_type": "stream",
     "text": [
      "enter side1: 3\n",
      "enter side2: 4\n",
      "enter side3: 5\n"
     ]
    },
    {
     "name": "stdout",
     "output_type": "stream",
     "text": [
      "area is  6.0\n"
     ]
    }
   ],
   "source": [
    "a = int(input(\"enter side1:\"))\n",
    "b = int(input(\"enter side2:\"))\n",
    "c = int(input(\"enter side3:\"))\n",
    "if a+b<c or a+c<b or c+b<a :\n",
    "    print(\"you have entered invalid dimensions\")\n",
    "else:\n",
    "    s = (a+b+c)/2\n",
    "    area = math.sqrt(s*(s-a)*(s-b)*(s-c))\n",
    "    print(\"area is \",area)"
   ]
  },
  {
   "cell_type": "code",
   "execution_count": 6,
   "id": "b906a656-5011-4198-b069-9dee1ab8f54c",
   "metadata": {},
   "outputs": [
    {
     "name": "stdin",
     "output_type": "stream",
     "text": [
      "enter number1 : 10\n",
      "enter number2 : 20\n"
     ]
    },
    {
     "name": "stdout",
     "output_type": "stream",
     "text": [
      "20\n",
      "10\n"
     ]
    }
   ],
   "source": [
    "a = int(input(\"enter number1 :\"))\n",
    "b = int(input(\"enter number2 :\"))\n",
    "a,b = b,a\n",
    "print(a)\n",
    "print(b)"
   ]
  },
  {
   "cell_type": "code",
   "execution_count": 7,
   "id": "1af4e088-7dd3-4bc5-b9ba-43612a4e4811",
   "metadata": {},
   "outputs": [
    {
     "name": "stdin",
     "output_type": "stream",
     "text": [
      "Enter the start of the range:  5\n",
      "Enter the end of the range:  31\n"
     ]
    },
    {
     "name": "stdout",
     "output_type": "stream",
     "text": [
      "Generated random number: 21\n"
     ]
    }
   ],
   "source": [
    "import random\n",
    "\n",
    "def generate_random_number(start=1, end=100):\n",
    "    return random.randint(start, end)\n",
    "start = int(input(\"Enter the start of the range: \"))\n",
    "end = int(input(\"Enter the end of the range: \"))\n",
    "random_number = generate_random_number(start, end)\n",
    "print(f\"Generated random number: {random_number}\")\n"
   ]
  },
  {
   "cell_type": "code",
   "execution_count": 8,
   "id": "dc98b40b-e2c1-43c2-9972-3912639f8cbc",
   "metadata": {},
   "outputs": [
    {
     "name": "stdin",
     "output_type": "stream",
     "text": [
      "enetr kms value : 2\n"
     ]
    },
    {
     "name": "stdout",
     "output_type": "stream",
     "text": [
      "in miles : 1.24\n"
     ]
    }
   ],
   "source": [
    "a = float(input(\"enetr kms value :\"))\n",
    "b = 0.62*a\n",
    "print(\"in miles :\",b)"
   ]
  },
  {
   "cell_type": "code",
   "execution_count": 11,
   "id": "47d0185c-d51a-4277-944b-aeb51423bbd2",
   "metadata": {},
   "outputs": [
    {
     "name": "stdin",
     "output_type": "stream",
     "text": [
      "enter number : 13\n"
     ]
    },
    {
     "name": "stdout",
     "output_type": "stream",
     "text": [
      "it is positive\n"
     ]
    }
   ],
   "source": [
    "a = int(input(\"enter number :\"))\n",
    "if a>0:\n",
    "    print(\"it is positive\")\n",
    "if a<0:\n",
    "    print(\"it is negative\")\n",
    "if a==0:\n",
    "    print(\"it is zero\")"
   ]
  },
  {
   "cell_type": "code",
   "execution_count": 13,
   "id": "e8331d95-bc5c-4abf-a36b-d6b271f0f00f",
   "metadata": {},
   "outputs": [
    {
     "name": "stdin",
     "output_type": "stream",
     "text": [
      "enter yur number : 14\n"
     ]
    },
    {
     "name": "stdout",
     "output_type": "stream",
     "text": [
      "it is even\n"
     ]
    }
   ],
   "source": [
    "a = int(input(\"enter yur number :\"))\n",
    "if a%2==0:\n",
    "    print(\"it is even\")\n",
    "else:\n",
    "    print(\"it is odd\")\n"
   ]
  },
  {
   "cell_type": "code",
   "execution_count": 15,
   "id": "04a7848b-b603-4993-ba59-4dbe3c14dd96",
   "metadata": {},
   "outputs": [
    {
     "name": "stdin",
     "output_type": "stream",
     "text": [
      "Enter a year:  1986\n"
     ]
    },
    {
     "name": "stdout",
     "output_type": "stream",
     "text": [
      "1986 is not a leap year.\n"
     ]
    }
   ],
   "source": [
    "def is_leap_year(year):\n",
    "    if (year % 4 == 0 and year % 100 != 0) or (year % 400 == 0):\n",
    "        return True\n",
    "    else:\n",
    "        return False\n",
    "\n",
    "\n",
    "year = int(input(\"Enter a year: \"))\n",
    "    \n",
    "if is_leap_year(year):\n",
    "    print(f\"{year} is a leap year.\")\n",
    "else:\n",
    "    print(f\"{year} is not a leap year.\")\n"
   ]
  },
  {
   "cell_type": "code",
   "execution_count": 16,
   "id": "c1b91e22-4073-41ad-a9aa-539a63475a2f",
   "metadata": {},
   "outputs": [
    {
     "name": "stdin",
     "output_type": "stream",
     "text": [
      "enter number 1: 12\n",
      "enter number 2: 9\n",
      "enter number 3: 13\n"
     ]
    },
    {
     "name": "stdout",
     "output_type": "stream",
     "text": [
      "largest is  13\n"
     ]
    }
   ],
   "source": [
    "a = int(input(\"enter number 1:\"))\n",
    "b = int(input(\"enter number 2:\"))\n",
    "c = int(input(\"enter number 3:\"))\n",
    "if a>b and a>c:\n",
    "    print(\"largest is \",a)\n",
    "elif b>a and b>c:\n",
    "    print(\"largest is \",b)\n",
    "else:\n",
    "    print(\"largest is \",c)"
   ]
  },
  {
   "cell_type": "code",
   "execution_count": 17,
   "id": "9a4fb81d-ffbe-4308-a59b-c667309c28bd",
   "metadata": {},
   "outputs": [
    {
     "name": "stdin",
     "output_type": "stream",
     "text": [
      "enter yur number : 3\n"
     ]
    },
    {
     "name": "stdout",
     "output_type": "stream",
     "text": [
      "6\n"
     ]
    }
   ],
   "source": [
    "fact = 1;\n",
    "n = int(input(\"enter yur number :\"))\n",
    "for i in range(1,n+1):\n",
    "    fact = fact*i\n",
    "print(fact)"
   ]
  },
  {
   "cell_type": "code",
   "execution_count": 20,
   "id": "12f02670-b20d-462f-bf96-5e77ddbe654d",
   "metadata": {},
   "outputs": [
    {
     "name": "stdin",
     "output_type": "stream",
     "text": [
      "enter yur integer : 5\n"
     ]
    },
    {
     "name": "stdout",
     "output_type": "stream",
     "text": [
      "The multiplication table for 5 is:\n",
      "5 x 1 = 5.\n",
      "5 x 2 = 10.\n",
      "5 x 3 = 15.\n",
      "5 x 4 = 20.\n",
      "5 x 5 = 25.\n",
      "5 x 6 = 30.\n",
      "5 x 7 = 35.\n",
      "5 x 8 = 40.\n",
      "5 x 9 = 45.\n",
      "5 x 10 = 50.\n"
     ]
    }
   ],
   "source": [
    "n = int(input(\"enter yur integer :\"))\n",
    "print(f\"The multiplication table for {n} is:\")\n",
    "for i in range(1,11):\n",
    "    print(f\"{n} x {i} = {n*i}.\")"
   ]
  },
  {
   "cell_type": "code",
   "execution_count": 22,
   "id": "fa774dbb-5427-401e-8bb1-73e29341eec4",
   "metadata": {},
   "outputs": [
    {
     "name": "stdin",
     "output_type": "stream",
     "text": [
      "Enter the range for Fibonacci sequence:  5\n"
     ]
    },
    {
     "name": "stdout",
     "output_type": "stream",
     "text": [
      "Fibonacci sequence up to 5 is:\n",
      "0 1 1 2 3 5 \n"
     ]
    }
   ],
   "source": [
    "def fibonacci_sequence(n):\n",
    "    a, b = 0, 1\n",
    "    print(\"Fibonacci sequence up to\", n, \"is:\")\n",
    "    while a <= n:\n",
    "        print(a, end=\" \")\n",
    "        a, b = b, a + b\n",
    "    print()  \n",
    "n = int(input(\"Enter the range for Fibonacci sequence: \"))\n",
    "fibonacci_sequence(n)\n",
    "\n",
    "    \n",
    "        "
   ]
  },
  {
   "cell_type": "code",
   "execution_count": 33,
   "id": "fb504dd9-ec72-4847-9789-12d6b128929e",
   "metadata": {},
   "outputs": [
    {
     "name": "stdin",
     "output_type": "stream",
     "text": [
      "Enter a number:  153\n"
     ]
    },
    {
     "name": "stdout",
     "output_type": "stream",
     "text": [
      "it is armstrong\n"
     ]
    }
   ],
   "source": [
    "number = int(input(\"Enter a number: \"))\n",
    "num_digits = len(str(number))\n",
    "sum_of_powers = 0\n",
    "temp = number\n",
    "while temp > 0:\n",
    "    digit = temp % 10\n",
    "    sum_of_powers += digit ** num_digits\n",
    "    temp //= 10\n",
    "if sum_of_powers == number:\n",
    "    print(\"it is armstrong\")\n",
    "else:\n",
    "    print(\"it is not\")\n",
    "\n",
    "    \n",
    "    \n",
    "\n",
    "\n",
    "    "
   ]
  },
  {
   "cell_type": "code",
   "execution_count": 34,
   "id": "734cb812-471d-40d1-8612-5019b5a901d4",
   "metadata": {},
   "outputs": [
    {
     "name": "stdin",
     "output_type": "stream",
     "text": [
      "Enter a positive integer:  4\n"
     ]
    },
    {
     "name": "stdout",
     "output_type": "stream",
     "text": [
      "The sum of the first 4 natural numbers is 10.\n"
     ]
    }
   ],
   "source": [
    "def sum_of_natural_numbers(n):\n",
    "    \n",
    "    return n * (n + 1) // 2\n",
    "n = int(input(\"Enter a positive integer: \"))\n",
    "if n > 0:\n",
    "    result = sum_of_natural_numbers(n)\n",
    "    print(f\"The sum of the first {n} natural numbers is {result}.\")\n",
    "else:\n",
    "    print(\"Please enter a positive integer.\")\n",
    "\n",
    "\n"
   ]
  },
  {
   "cell_type": "code",
   "execution_count": 36,
   "id": "3df9c164-8e5b-4f46-8343-487b091775f8",
   "metadata": {},
   "outputs": [
    {
     "name": "stdin",
     "output_type": "stream",
     "text": [
      "enetr yur number : 586\n"
     ]
    },
    {
     "name": "stdout",
     "output_type": "stream",
     "text": [
      "19\n"
     ]
    }
   ],
   "source": [
    "a = int(input(\"enetr yur number :\"))\n",
    "b = str(a)\n",
    "sum = 0\n",
    "for i in b:\n",
    "    sum+=int(i)\n",
    "print(sum)"
   ]
  },
  {
   "cell_type": "code",
   "execution_count": 37,
   "id": "be0c3ff9-9844-4027-97b0-b0e20bfd85a2",
   "metadata": {},
   "outputs": [
    {
     "name": "stdin",
     "output_type": "stream",
     "text": [
      "enetr yur number : 2765\n"
     ]
    },
    {
     "name": "stdout",
     "output_type": "stream",
     "text": [
      "the reverse is : 5672\n"
     ]
    }
   ],
   "source": [
    "a = int(input(\"enetr yur number :\"))\n",
    "b = str(a)\n",
    "b = b[::-1]\n",
    "c = int(b)\n",
    "print(\"the reverse is :\",c)"
   ]
  },
  {
   "cell_type": "code",
   "execution_count": 38,
   "id": "8111beac-9a12-4545-af95-e8c053d796fa",
   "metadata": {},
   "outputs": [
    {
     "name": "stdin",
     "output_type": "stream",
     "text": [
      "Enter a decimal number:  23\n"
     ]
    },
    {
     "name": "stdout",
     "output_type": "stream",
     "text": [
      "Binary representation of 23 is 10111\n",
      "Octal representation of 23 is 27\n",
      "Hexadecimal representation of 23 is 17\n"
     ]
    }
   ],
   "source": [
    "def decimal_to_binary(decimal_number):\n",
    "    return bin(decimal_number)[2:]\n",
    "\n",
    "def decimal_to_octal(decimal_number):\n",
    "    return oct(decimal_number)[2:]\n",
    "\n",
    "def decimal_to_hexadecimal(decimal_number):\n",
    "    return hex(decimal_number)[2:]\n",
    "    \n",
    "decimal_number = int(input(\"Enter a decimal number: \"))\n",
    "binary_rep = decimal_to_binary(decimal_number)\n",
    "octal_rep = decimal_to_octal(decimal_number)\n",
    "hexadecimal_rep = decimal_to_hexadecimal(decimal_number)\n",
    "print(f\"Binary representation of {decimal_number} is {binary_rep}\")\n",
    "print(f\"Octal representation of {decimal_number} is {octal_rep}\")\n",
    "print(f\"Hexadecimal representation of {decimal_number} is {hexadecimal_rep}\")\n"
   ]
  },
  {
   "cell_type": "code",
   "execution_count": 45,
   "id": "db0409d4-994f-483c-bbb3-fcf8cb01c9d4",
   "metadata": {},
   "outputs": [
    {
     "name": "stdin",
     "output_type": "stream",
     "text": [
      "Enter yur first number:  7\n",
      "Enter yur second number:  9\n"
     ]
    },
    {
     "name": "stdout",
     "output_type": "stream",
     "text": [
      "HCF is 1\n"
     ]
    }
   ],
   "source": [
    "a = int(input(\"Enter yur first number: \"))\n",
    "b = int(input(\"Enter yur second number: \"))\n",
    "a1 = []\n",
    "b1 = []\n",
    "\n",
    "for i in range(1, a + 1):\n",
    "    if a % i == 0:\n",
    "        a1.append(i)\n",
    "for j in range(1, b + 1):\n",
    "    if b % j == 0:\n",
    "        b1.append(j)\n",
    "c1 = []\n",
    "for i in a1:\n",
    "    for j in b1:\n",
    "        if i == j:\n",
    "            c1.append(i)\n",
    "c1.sort(reverse=True)\n",
    "if len(c1) > 0:\n",
    "    print(\"HCF is\", c1[0])\n",
    "else:\n",
    "    print(\"No common factors found.\")\n"
   ]
  },
  {
   "cell_type": "code",
   "execution_count": 46,
   "id": "d1447908-6455-4202-9994-816a9da1a64a",
   "metadata": {},
   "outputs": [
    {
     "name": "stdin",
     "output_type": "stream",
     "text": [
      "Enter first number:  7\n",
      "Enter second number:  9\n"
     ]
    },
    {
     "name": "stdout",
     "output_type": "stream",
     "text": [
      "LCM of 7 and 9 is 63\n"
     ]
    }
   ],
   "source": [
    "def lcm(a, b):\n",
    "    return abs(a * b) // math.gcd(a, b)\n",
    "num1 = int(input(\"Enter first number: \"))\n",
    "num2 = int(input(\"Enter second number: \"))\n",
    "result = lcm(num1, num2)\n",
    "print(f\"LCM of {num1} and {num2} is {result}\")\n"
   ]
  },
  {
   "cell_type": "code",
   "execution_count": 48,
   "id": "9f2b67ca-4082-4700-aca2-c2ef33442bdf",
   "metadata": {},
   "outputs": [
    {
     "name": "stdin",
     "output_type": "stream",
     "text": [
      "enter yur string : aeiouvbvuA\n"
     ]
    },
    {
     "name": "stdout",
     "output_type": "stream",
     "text": [
      "the number of vowels is  7\n"
     ]
    }
   ],
   "source": [
    "a = input(\"enter yur string :\")\n",
    "b = \"aeiouAEIOU\"\n",
    "count = 0\n",
    "for i in a:\n",
    "    if i in b:\n",
    "        count+=1\n",
    "print(\"the number of vowels is \",count)\n",
    "        "
   ]
  },
  {
   "cell_type": "code",
   "execution_count": 51,
   "id": "4b6a1d12-9cf1-4435-9dd3-f4c1bfb80dbe",
   "metadata": {},
   "outputs": [
    {
     "name": "stdin",
     "output_type": "stream",
     "text": [
      "enter yur string : Hello, I am good right.??\n"
     ]
    },
    {
     "name": "stdout",
     "output_type": "stream",
     "text": [
      "Original string: Hello, I am good right.??\n",
      "String without punctuation: Hello I am good right\n"
     ]
    }
   ],
   "source": [
    "import string\n",
    "\n",
    "def remove_punctuation(input_string):\n",
    "     \n",
    "    punctuations = set(string.punctuation) #string having all ASCII punctuation chars\n",
    "    cleaned_string = \"\"\n",
    "    for char in input_string:\n",
    "        if char not in punctuations:\n",
    "            cleaned_string += char\n",
    "    \n",
    "    return cleaned_string\n",
    "input_string = input(\"enter yur string :\")\n",
    "cleaned_string = remove_punctuation(input_string)\n",
    "print(\"Original string:\", input_string)\n",
    "print(\"String without punctuation:\", cleaned_string)\n"
   ]
  },
  {
   "cell_type": "code",
   "execution_count": 56,
   "id": "2f9c37e5-6265-4146-ba5a-ee82b5232884",
   "metadata": {},
   "outputs": [
    {
     "name": "stdin",
     "output_type": "stream",
     "text": [
      "enter the number of elements you want : 4\n",
      "enter element at 1 position:  23\n",
      "enter element at 2 position:  17\n",
      "enter element at 3 position:  69\n",
      "enter element at 4 position:  44\n"
     ]
    },
    {
     "name": "stdout",
     "output_type": "stream",
     "text": [
      "[17, 23, 44, 69]\n"
     ]
    }
   ],
   "source": [
    "a = []\n",
    "n = int(input(\"enter the number of elements you want :\"))\n",
    "for i in range(n):\n",
    "    a.append(int(input(f\"enter element at {i+1} position: \")))\n",
    "a.sort()\n",
    "print(a)\n"
   ]
  },
  {
   "cell_type": "code",
   "execution_count": 59,
   "id": "4038e15c-d7d8-498b-9368-e5aaea732768",
   "metadata": {},
   "outputs": [
    {
     "name": "stdin",
     "output_type": "stream",
     "text": [
      "enter the number of elements you want in first list : 4\n",
      "enter element at 1 position:  10\n",
      "enter element at 2 position:  8\n",
      "enter element at 3 position:  99\n",
      "enter element at 4 position:  75\n",
      "enter the number of elements you want : 3\n",
      "enter element at 1 position:  99\n",
      "enter element at 2 position:  4\n",
      "enter element at 3 position:  2\n"
     ]
    },
    {
     "name": "stdout",
     "output_type": "stream",
     "text": [
      "[10, 8, 99, 75, 99, 4, 2]\n",
      "after sorting the 2 merged lists we get : [2, 4, 8, 10, 75, 99, 99]\n"
     ]
    }
   ],
   "source": [
    "a = []\n",
    "n = int(input(\"enter the number of elements you want in first list :\"))\n",
    "for i in range(n):\n",
    "    a.append(int(input(f\"enter element at {i+1} position: \")))\n",
    "b = []\n",
    "m = int(input(\"enter the number of elements you want :\"))\n",
    "for i in range(m):\n",
    "    b.append(int(input(f\"enter element at {i+1} position: \")))\n",
    "a.extend(b)\n",
    "print(a)\n",
    "a.sort()\n",
    "print(\"after sorting the 2 merged lists we get :\",a)\n"
   ]
  },
  {
   "cell_type": "code",
   "execution_count": null,
   "id": "309ac38e-0d69-4c03-a2f9-b6ba187928c3",
   "metadata": {},
   "outputs": [],
   "source": []
  }
 ],
 "metadata": {
  "kernelspec": {
   "display_name": "Python 3 (ipykernel)",
   "language": "python",
   "name": "python3"
  },
  "language_info": {
   "codemirror_mode": {
    "name": "ipython",
    "version": 3
   },
   "file_extension": ".py",
   "mimetype": "text/x-python",
   "name": "python",
   "nbconvert_exporter": "python",
   "pygments_lexer": "ipython3",
   "version": "3.11.7"
  }
 },
 "nbformat": 4,
 "nbformat_minor": 5
}
