{
 "cells": [
  {
   "cell_type": "code",
   "execution_count": 1,
   "id": "c2dd9c67-5d1b-44a0-8155-d8fb9533bfbc",
   "metadata": {},
   "outputs": [],
   "source": [
    "import pandas as pd\n",
    "import numpy as np\n",
    "#t provides support for large, multi-dimensional arrays and matrices, along with a collection of mathematical functions to operate on these arrays.\n",
    "ser = pd.Series()"
   ]
  },
  {
   "cell_type": "code",
   "execution_count": 2,
   "id": "8677ec15-c73b-4510-8b82-c0ec6c01d0c1",
   "metadata": {},
   "outputs": [
    {
     "data": {
      "text/plain": [
       "Series([], dtype: object)"
      ]
     },
     "execution_count": 2,
     "metadata": {},
     "output_type": "execute_result"
    }
   ],
   "source": [
    "ser"
   ]
  },
  {
   "cell_type": "code",
   "execution_count": 3,
   "id": "107a27ab-bcee-4d0a-9e3b-38420f1cc326",
   "metadata": {},
   "outputs": [
    {
     "name": "stdout",
     "output_type": "stream",
     "text": [
      "0     0\n",
      "1    10\n",
      "2    20\n",
      "3    30\n",
      "4    40\n",
      "5    50\n",
      "6    60\n",
      "7    70\n",
      "8    80\n",
      "9    90\n",
      "dtype: int64\n"
     ]
    }
   ],
   "source": [
    "ser = pd.Series([0,10,20,30,40,50,60,70,80,90])\n",
    "print(ser)"
   ]
  },
  {
   "cell_type": "code",
   "execution_count": 4,
   "id": "3751220c-d71e-4c23-a28c-6d3e32cbb596",
   "metadata": {},
   "outputs": [
    {
     "name": "stdout",
     "output_type": "stream",
     "text": [
      "0      20\n",
      "1    15.7\n",
      "2      10\n",
      "dtype: object\n"
     ]
    }
   ],
   "source": [
    "ser = pd.Series([20,15.7,'10'])\n",
    "print(ser)"
   ]
  },
  {
   "cell_type": "code",
   "execution_count": 5,
   "id": "d7f746be-1f95-44bc-af92-a54283e380ec",
   "metadata": {},
   "outputs": [
    {
     "name": "stdout",
     "output_type": "stream",
     "text": [
      "0    20.0\n",
      "1    15.7\n",
      "dtype: float64\n"
     ]
    }
   ],
   "source": [
    "ser1 = pd.Series([20,15.7])\n",
    "print(ser1)"
   ]
  },
  {
   "cell_type": "code",
   "execution_count": 6,
   "id": "496d36f1-9b28-4c19-a2c5-2e3127055882",
   "metadata": {},
   "outputs": [
    {
     "name": "stdout",
     "output_type": "stream",
     "text": [
      "   A  B  C\n",
      "0  1  4  7\n",
      "1  2  5  8\n",
      "2  3  6  9\n"
     ]
    }
   ],
   "source": [
    "dict = {'A':[1,2,3],'B':[4,5,6],'C':[7,8,9]}\n",
    "df = pd.DataFrame(dict)\n",
    "print(df)"
   ]
  },
  {
   "cell_type": "code",
   "execution_count": 7,
   "id": "03f38995-14c2-4bea-a810-c8dcb3eeb632",
   "metadata": {},
   "outputs": [
    {
     "name": "stdout",
     "output_type": "stream",
     "text": [
      "   A  B  C\n",
      "0  1  4  7\n",
      "1  2  5  8\n",
      "2  3  6  9\n",
      "   A  B  C State\n",
      "0  1  4  7    BR\n",
      "1  2  5  8    CG\n",
      "2  3  6  9    MP\n"
     ]
    }
   ],
   "source": [
    "dict = {'A':[1,2,3],'B':[4,5,6],'C':[7,8,9]}\n",
    "df = pd.DataFrame(dict)\n",
    "print(df)\n",
    "df['State']=\"BR CG MP\".split()\n",
    "print(df)"
   ]
  },
  {
   "cell_type": "code",
   "execution_count": 8,
   "id": "a1f07450-1697-4694-81b3-c87d38446abd",
   "metadata": {},
   "outputs": [
    {
     "name": "stdout",
     "output_type": "stream",
     "text": [
      "   A  B  C\n",
      "0  1  4  7\n",
      "1  2  5  8\n",
      "2  3  6  9\n",
      "   A  B  C State\n",
      "0  1  4  7    BR\n",
      "1  2  5  8    CG\n",
      "2  3  6  9    MP\n"
     ]
    }
   ],
   "source": [
    "dict = {'A':[1,2,3],'B':[4,5,6],'C':[7,8,9]}\n",
    "df = pd.DataFrame(dict)\n",
    "print(df)\n",
    "df['State']=\"BR:CG:MP\".split(':')\n",
    "print(df)"
   ]
  },
  {
   "cell_type": "code",
   "execution_count": 9,
   "id": "3e29f870-a65f-4736-8736-d557fb6e926d",
   "metadata": {},
   "outputs": [
    {
     "name": "stdout",
     "output_type": "stream",
     "text": [
      "     A    B  C\n",
      "0  1.0  4.0  7\n",
      "1  2.0  5.0  8\n",
      "2  NaN  NaN  9\n"
     ]
    }
   ],
   "source": [
    "#split: splits the data according to the seperator\n",
    "#NAN\n",
    "dict = {'A':[1,2,np.nan],'B':[4,5,np.nan],'C':[7,8,9]}\n",
    "df = pd.DataFrame(dict)\n",
    "print(df)"
   ]
  },
  {
   "cell_type": "code",
   "execution_count": 10,
   "id": "07b1cf33-891b-4e3b-ade0-88216668c107",
   "metadata": {},
   "outputs": [
    {
     "name": "stdout",
     "output_type": "stream",
     "text": [
      "     A    B  C  D\n",
      "0  1.0  4.0  7  5\n",
      "1  2.0  5.0  8  6\n",
      "2  NaN  NaN  9  7\n"
     ]
    }
   ],
   "source": [
    "df['D'] = [5,6,7]\n",
    "print(df)"
   ]
  },
  {
   "cell_type": "code",
   "execution_count": 11,
   "id": "01fbee94-e94a-491d-9e9f-967fbaaec85d",
   "metadata": {},
   "outputs": [
    {
     "name": "stdout",
     "output_type": "stream",
     "text": [
      "   C  D\n",
      "0  7  5\n",
      "1  8  6\n",
      "2  9  7\n"
     ]
    }
   ],
   "source": [
    "#drop nan value from columns\n",
    "print(df.dropna(axis=1))"
   ]
  },
  {
   "cell_type": "code",
   "execution_count": 12,
   "id": "0701a124-9479-40db-a7ee-449526f7ea9c",
   "metadata": {},
   "outputs": [
    {
     "name": "stdout",
     "output_type": "stream",
     "text": [
      "     A    B  C  D\n",
      "0  1.0  4.0  7  5\n",
      "1  2.0  5.0  8  6\n"
     ]
    }
   ],
   "source": [
    "#drop from row\n",
    "print(df.dropna(axis=0))"
   ]
  },
  {
   "cell_type": "code",
   "execution_count": 13,
   "id": "00bf8246-12c6-4acf-a379-8fcbd36581e6",
   "metadata": {},
   "outputs": [
    {
     "name": "stdout",
     "output_type": "stream",
     "text": [
      "     A    B  C  D\n",
      "0  1.0  4.0  7  5\n",
      "1  2.0  5.0  8  6\n",
      "2  NaN  NaN  9  7\n"
     ]
    }
   ],
   "source": [
    "#How to remove permanently? pls check\n",
    "print(df)"
   ]
  },
  {
   "cell_type": "code",
   "execution_count": 14,
   "id": "e43c760e-3d02-4396-bda8-28fe56fa1a5d",
   "metadata": {},
   "outputs": [
    {
     "name": "stdout",
     "output_type": "stream",
     "text": [
      "      A     B  C  D\n",
      "0   1.0   4.0  7  5\n",
      "1   2.0   5.0  8  6\n",
      "2  90.0  90.0  9  7\n"
     ]
    }
   ],
   "source": [
    "#filling NAN\n",
    "print(df.fillna(value=90))"
   ]
  },
  {
   "cell_type": "code",
   "execution_count": 15,
   "id": "aa1ea148-a5b2-461c-92af-c1de255001f6",
   "metadata": {},
   "outputs": [
    {
     "name": "stdout",
     "output_type": "stream",
     "text": [
      "     A    B  C  D\n",
      "0  1.0  4.0  7  5\n",
      "1  2.0  5.0  8  6\n",
      "2  NaN  NaN  9  7\n"
     ]
    }
   ],
   "source": [
    "print(df)"
   ]
  },
  {
   "cell_type": "code",
   "execution_count": 16,
   "id": "9bf963c8-becb-4a9a-a3a2-c2d7a17388d2",
   "metadata": {},
   "outputs": [
    {
     "name": "stdout",
     "output_type": "stream",
     "text": [
      "     A    B  C  D\n",
      "0  1.0  4.0  7  5\n",
      "1  2.0  5.0  8  6\n",
      "2  8.0  8.0  9  7\n"
     ]
    }
   ],
   "source": [
    "#even fillna does not save permanently\n",
    "#let's try to save permanently\n",
    "df.fillna(value=df['C'].mean(),inplace=True) #we save our data for future\n",
    "print(df)"
   ]
  },
  {
   "cell_type": "code",
   "execution_count": 17,
   "id": "c86b00b2-c989-4fd8-b1ff-60858f74153e",
   "metadata": {},
   "outputs": [
    {
     "name": "stdout",
     "output_type": "stream",
     "text": [
      "      sales\n",
      "Comp       \n",
      "goog   15.0\n",
      "msn    22.5\n"
     ]
    }
   ],
   "source": [
    "data = {'Comp':['goog','goog','msn','msn'],'sales':[10,20,30,15]}\n",
    "df = pd.DataFrame(data)\n",
    "bycomp = df.groupby('Comp')\n",
    "print(bycomp.mean())"
   ]
  },
  {
   "cell_type": "code",
   "execution_count": 18,
   "id": "843bd117-7d61-4066-a2d2-17980a0667f2",
   "metadata": {},
   "outputs": [
    {
     "name": "stdout",
     "output_type": "stream",
     "text": [
      "      sales\n",
      "Comp       \n",
      "goog     30\n",
      "msn      45\n"
     ]
    }
   ],
   "source": [
    "print(bycomp.sum())"
   ]
  },
  {
   "cell_type": "code",
   "execution_count": 19,
   "id": "c276d969-f87e-48b6-91e3-887785f4fd55",
   "metadata": {},
   "outputs": [
    {
     "name": "stdout",
     "output_type": "stream",
     "text": [
      "Row-wise Concatenation:\n",
      "     A   B\n",
      "0  A0  B0\n",
      "1  A1  B1\n",
      "2  A2  B2\n",
      "3  A3  B3\n",
      "0  A4  B4\n",
      "1  A5  B5\n",
      "2  A6  B6\n",
      "3  A7  B7\n"
     ]
    }
   ],
   "source": [
    "\n",
    "\n",
    "\n",
    "df1 = pd.DataFrame({'A': ['A0', 'A1', 'A2', 'A3'],\n",
    "                    'B': ['B0', 'B1', 'B2', 'B3']})\n",
    "\n",
    "df2 = pd.DataFrame({'A': ['A4', 'A5', 'A6', 'A7'],\n",
    "                    'B': ['B4', 'B5', 'B6', 'B7']})\n",
    "\n",
    "# Concatenating DataFrames row-wise\n",
    "result_row = pd.concat([df1, df2], axis=0)\n",
    "print(\"Row-wise Concatenation:\\n\", result_row)\n"
   ]
  },
  {
   "cell_type": "code",
   "execution_count": 20,
   "id": "b84a640f-3a66-47bd-84cc-009f227e40c2",
   "metadata": {},
   "outputs": [
    {
     "name": "stdout",
     "output_type": "stream",
     "text": [
      "Column-wise Concatenation:\n",
      "     A   B   C   D\n",
      "0  A0  B0  C0  D0\n",
      "1  A1  B1  C1  D1\n",
      "2  A2  B2  C2  D2\n",
      "3  A3  B3  C3  D3\n"
     ]
    }
   ],
   "source": [
    "\n",
    "df3 = pd.DataFrame({'A': ['A0', 'A1', 'A2', 'A3'],\n",
    "                    'B': ['B0', 'B1', 'B2', 'B3']})\n",
    "\n",
    "df4 = pd.DataFrame({'C': ['C0', 'C1', 'C2', 'C3'],\n",
    "                    'D': ['D0', 'D1', 'D2', 'D3']})\n",
    "\n",
    "# Concatenating DataFrames column-wise\n",
    "result_column = pd.concat([df3, df4], axis=1)\n",
    "print(\"Column-wise Concatenation:\\n\", result_column)\n"
   ]
  },
  {
   "cell_type": "code",
   "execution_count": 21,
   "id": "7e400ca1-c7d6-44ee-a3a0-2eec1ff13381",
   "metadata": {},
   "outputs": [
    {
     "name": "stdout",
     "output_type": "stream",
     "text": [
      "Merging DataFrames:\n",
      "   key   A   B   C   D\n",
      "0  K0  A0  B0  C0  D0\n",
      "1  K1  A1  B1  C1  D1\n",
      "2  K2  A2  B2  C2  D2\n",
      "3  K3  A3  B3  C3  D3\n"
     ]
    }
   ],
   "source": [
    "\n",
    "df_left = pd.DataFrame({'key': ['K0', 'K1', 'K2', 'K3'],\n",
    "                        'A': ['A0', 'A1', 'A2', 'A3'],\n",
    "                        'B': ['B0', 'B1', 'B2', 'B3']})\n",
    "\n",
    "df_right = pd.DataFrame({'key': ['K0', 'K1', 'K2', 'K3'],\n",
    "                         'C': ['C0', 'C1', 'C2', 'C3'],\n",
    "                         'D': ['D0', 'D1', 'D2', 'D3']})\n",
    "\n",
    "# Merging DataFrames on 'key' column\n",
    "result_merge = pd.merge(df_left, df_right, on='key')\n",
    "print(\"Merging DataFrames:\\n\", result_merge)\n"
   ]
  },
  {
   "cell_type": "code",
   "execution_count": 22,
   "id": "57cfd418-04ac-408e-8a5f-75c36fd4184a",
   "metadata": {},
   "outputs": [
    {
     "name": "stdout",
     "output_type": "stream",
     "text": [
      "Outer Join:\n",
      "    key_left    A key_right    B\n",
      "K0       K0   A0       NaN  NaN\n",
      "K1       K1   A1        K1   B1\n",
      "K2       K2   A2        K2   B2\n",
      "K3      NaN  NaN        K3   B3\n"
     ]
    }
   ],
   "source": [
    "\n",
    "df_left = pd.DataFrame({'key': ['K0', 'K1', 'K2'],\n",
    "                        'A': ['A0', 'A1', 'A2']},\n",
    "                       index=['K0', 'K1', 'K2'])\n",
    "\n",
    "df_right = pd.DataFrame({'key': ['K1', 'K2', 'K3'],\n",
    "                         'B': ['B1', 'B2', 'B3']},\n",
    "                        index=['K1', 'K2', 'K3'])\n",
    "\n",
    "# Joining DataFrames with how='outer'\n",
    "result_outer_join = df_left.join(df_right, how='outer', lsuffix='_left', rsuffix='_right')\n",
    "print(\"Outer Join:\\n\", result_outer_join)\n"
   ]
  },
  {
   "cell_type": "code",
   "execution_count": null,
   "id": "c38b0cdc-92e2-406c-bef7-226d2045009d",
   "metadata": {},
   "outputs": [],
   "source": []
  }
 ],
 "metadata": {
  "kernelspec": {
   "display_name": "Python 3 (ipykernel)",
   "language": "python",
   "name": "python3"
  },
  "language_info": {
   "codemirror_mode": {
    "name": "ipython",
    "version": 3
   },
   "file_extension": ".py",
   "mimetype": "text/x-python",
   "name": "python",
   "nbconvert_exporter": "python",
   "pygments_lexer": "ipython3",
   "version": "3.11.7"
  }
 },
 "nbformat": 4,
 "nbformat_minor": 5
}
